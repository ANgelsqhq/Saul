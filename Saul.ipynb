{
 "cells": [
  {
   "cell_type": "code",
   "execution_count": null,
   "id": "97454597-b042-4aa7-b903-288565075e11",
   "metadata": {},
   "outputs": [],
   "source": [
    "from turtle import *\n",
    "\n",
    "# Agregar el texto en la cabecera\n",
    "header_text = \"Te quiero Saúl, tus flores amarillas ❤️🌷🌻💗💗\"\n",
    "color(\"white\")  # Color del texto\n",
    "penup()\n",
    "goto(-180, 250)  # Posición del texto\n",
    "pendown()\n",
    "write(header_text, align=\"left\", font=(\"Arial\", 12, \"normal\"))\n",
    "\n",
    "speed(20)\n",
    "bgcolor(\"black\")\n",
    "\n",
    "# Dibujar el tallo verde del girasol\n",
    "penup()\n",
    "goto(0, -100)\n",
    "pendown()\n",
    "color(\"green\")\n",
    "begin_fill()\n",
    "right(90)\n",
    "forward(400)\n",
    "left(90)\n",
    "forward(20)\n",
    "left(90)\n",
    "forward(400)\n",
    "left(90)\n",
    "forward(20)\n",
    "end_fill()\n",
    "\n",
    "# Dibujar el girasol\n",
    "penup()\n",
    "goto(0, 0)\n",
    "pendown()\n",
    "for i in range(16):\n",
    "    for j in range(18):\n",
    "        color(\"yellow\")  # Todos los pétalos son amarillos\n",
    "        right(90)\n",
    "        circle(150 - j * 6, 90)\n",
    "        left(90)\n",
    "        circle(150 - j * 6, 90)\n",
    "        right(180)\n",
    "    circle(40, 24)\n",
    "\n",
    "# Colorear el centro de marrón\n",
    "penup()\n",
    "goto(-20, 0)\n",
    "pendown()\n",
    "color(\"brown\")\n",
    "begin_fill()\n",
    "circle(44)  # Ajustar el radio del centro\n",
    "end_fill()\n",
    "\n",
    "done()"
   ]
  },
  {
   "cell_type": "code",
   "execution_count": null,
   "id": "4f6e863a-8db3-4e14-8d53-42f289b5ad4b",
   "metadata": {},
   "outputs": [],
   "source": []
  }
 ],
 "metadata": {
  "kernelspec": {
   "display_name": "Python 3 (ipykernel)",
   "language": "python",
   "name": "python3"
  },
  "language_info": {
   "codemirror_mode": {
    "name": "ipython",
    "version": 3
   },
   "file_extension": ".py",
   "mimetype": "text/x-python",
   "name": "python",
   "nbconvert_exporter": "python",
   "pygments_lexer": "ipython3",
   "version": "3.12.4"
  }
 },
 "nbformat": 4,
 "nbformat_minor": 5
}
