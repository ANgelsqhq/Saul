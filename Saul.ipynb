{
 "cells": [
  {
   "cell_type": "code",
   "execution_count": 1,
   "id": "2a518a19-aba5-493a-9f70-0e0a73c91c0d",
   "metadata": {
    "editable": true,
    "slideshow": {
     "slide_type": ""
    },
    "tags": []
   },
   "outputs": [
    {
     "ename": "Terminator",
     "evalue": "",
     "output_type": "error",
     "traceback": [
      "\u001b[1;31m---------------------------------------------------------------------------\u001b[0m",
      "\u001b[1;31mTerminator\u001b[0m                                Traceback (most recent call last)",
      "Cell \u001b[1;32mIn[1], line 41\u001b[0m\n\u001b[0;32m     39\u001b[0m     circle(\u001b[38;5;241m150\u001b[39m \u001b[38;5;241m-\u001b[39m j \u001b[38;5;241m*\u001b[39m \u001b[38;5;241m6\u001b[39m, \u001b[38;5;241m90\u001b[39m)\n\u001b[0;32m     40\u001b[0m     lt(\u001b[38;5;241m90\u001b[39m)\n\u001b[1;32m---> 41\u001b[0m     circle(\u001b[38;5;241m150\u001b[39m \u001b[38;5;241m-\u001b[39m j \u001b[38;5;241m*\u001b[39m \u001b[38;5;241m6\u001b[39m, \u001b[38;5;241m90\u001b[39m)\n\u001b[0;32m     42\u001b[0m     rt(\u001b[38;5;241m180\u001b[39m)\n\u001b[0;32m     43\u001b[0m circle(\u001b[38;5;241m40\u001b[39m, \u001b[38;5;241m24\u001b[39m)\n",
      "File \u001b[1;32m<string>:5\u001b[0m, in \u001b[0;36mcircle\u001b[1;34m(radius, extent, steps)\u001b[0m\n",
      "\u001b[1;31mTerminator\u001b[0m: "
     ]
    }
   ],
   "source": [
    "from turtle import *\n",
    "import colorsys\n",
    "\n",
    "# Agregar el texto en la cabecera\n",
    "header_text = \"Te quiero Saúl, tus flores amarillas ❤️🌷🌻💗💗\"\n",
    "color(\"white\")  # Color del texto\n",
    "penup()\n",
    "goto(-180, 250)  # Posición del texto\n",
    "pendown()\n",
    "write(header_text, align=\"left\", font=(\"Arial\", 12, \"normal\"))\n",
    "\n",
    "speed(20)\n",
    "bgcolor(\"black\")\n",
    "h = 0\n",
    "# Dibujar el tallo verde del girasol\n",
    "penup()\n",
    "goto(0, -100)\n",
    "pendown()\n",
    "color(\"green\")\n",
    "begin_fill()\n",
    "rt(90)\n",
    "fd(400)\n",
    "lt(90)\n",
    "fd(20)\n",
    "lt(90)\n",
    "fd(400)\n",
    "lt(90)\n",
    "fd(20)\n",
    "end_fill()\n",
    "# Dibujar el girasol\n",
    "penup()\n",
    "goto(0, 0)\n",
    "pendown()\n",
    "for i in range(16):\n",
    "    for j in range(18):\n",
    "        color(\"yellow\")  # Todos los pétalos son amarillos\n",
    "        h += 0.005\n",
    "        rt(90)\n",
    "        circle(150 - j * 6, 90)\n",
    "        lt(90)\n",
    "        circle(150 - j * 6, 90)\n",
    "        rt(180)\n",
    "    circle(40, 24)\n",
    "# Colorear el centro de marrón\n",
    "penup()\n",
    "goto(-20, 0)\n",
    "pendown()\n",
    "color(\"brown\")\n",
    "begin_fill()\n",
    "circle(44)  # Ajustar el radio del centro\n",
    "end_fill()\n",
    "done()"
   ]
  },
  {
   "cell_type": "code",
   "execution_count": null,
   "id": "6215a60a-7d3e-4932-b0e1-e583cc19c5c6",
   "metadata": {},
   "outputs": [],
   "source": []
  }
 ],
 "metadata": {
  "kernelspec": {
   "display_name": "Python 3 (ipykernel)",
   "language": "python",
   "name": "python3"
  },
  "language_info": {
   "codemirror_mode": {
    "name": "ipython",
    "version": 3
   },
   "file_extension": ".py",
   "mimetype": "text/x-python",
   "name": "python",
   "nbconvert_exporter": "python",
   "pygments_lexer": "ipython3",
   "version": "3.12.4"
  }
 },
 "nbformat": 4,
 "nbformat_minor": 5
}
